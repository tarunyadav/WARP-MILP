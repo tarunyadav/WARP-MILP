{
  "nbformat": 4,
  "nbformat_minor": 0,
  "metadata": {
    "colab": {
      "name": "WARP_LinIneq_MILP.ipynb",
      "provenance": []
    },
    "kernelspec": {
      "name": "python3",
      "display_name": "Python 3"
    },
    "language_info": {
      "name": "python"
    }
  },
  "cells": [
    {
      "cell_type": "code",
      "metadata": {
        "id": "tYG-FLNk9msi"
      },
      "source": [
        ""
      ],
      "execution_count": null,
      "outputs": []
    },
    {
      "cell_type": "code",
      "metadata": {
        "colab": {
          "base_uri": "https://localhost:8080/"
        },
        "id": "LokouCiC9qR3",
        "outputId": "1db16201-2f4d-4f03-8c55-562422bee546"
      },
      "source": [
        "from google.colab import drive\n",
        "drive.mount('/content/drive')"
      ],
      "execution_count": 1,
      "outputs": [
        {
          "output_type": "stream",
          "name": "stdout",
          "text": [
            "Mounted at /content/drive\n"
          ]
        }
      ]
    },
    {
      "cell_type": "code",
      "metadata": {
        "colab": {
          "base_uri": "https://localhost:8080/"
        },
        "id": "dzWwEN6k9yql",
        "outputId": "b98a1b15-21a7-4099-d757-4a9a75933d6b"
      },
      "source": [
        "pip install gurobipy"
      ],
      "execution_count": 2,
      "outputs": [
        {
          "output_type": "stream",
          "name": "stdout",
          "text": [
            "Collecting gurobipy\n",
            "  Downloading gurobipy-9.1.2-cp37-cp37m-manylinux1_x86_64.whl (11.1 MB)\n",
            "\u001b[K     |████████████████████████████████| 11.1 MB 18.7 MB/s \n",
            "\u001b[?25hInstalling collected packages: gurobipy\n",
            "Successfully installed gurobipy-9.1.2\n"
          ]
        }
      ]
    },
    {
      "cell_type": "code",
      "metadata": {
        "colab": {
          "base_uri": "https://localhost:8080/"
        },
        "id": "k9sfaJug-Hpm",
        "outputId": "fc4fc671-6a05-406a-9aab-7d3f5a9e080a"
      },
      "source": [
        "import gurobipy\n",
        "m = gurobipy.read(\"MinimizeInequalities_First.lp\")\n",
        "m.optimize()\n",
        "m.write(\"MinimizeInequalities_First.sol\")"
      ],
      "execution_count": 3,
      "outputs": [
        {
          "output_type": "stream",
          "name": "stdout",
          "text": [
            "Restricted license - for non-production use only - expires 2022-01-13\n",
            "Read LP format model from file MinimizeInequalities_First.lp\n",
            "Reading time = 0.01 seconds\n",
            ": 159 rows, 239 columns, 2200 nonzeros\n",
            "Gurobi Optimizer version 9.1.2 build v9.1.2rc0 (linux64)\n",
            "Thread count: 1 physical cores, 2 logical processors, using up to 2 threads\n",
            "Optimize a model with 159 rows, 239 columns and 2200 nonzeros\n",
            "Model fingerprint: 0xeb073ce0\n",
            "Variable types: 0 continuous, 239 integer (239 binary)\n",
            "Coefficient statistics:\n",
            "  Matrix range     [1e+00, 1e+00]\n",
            "  Objective range  [1e+00, 1e+00]\n",
            "  Bounds range     [1e+00, 1e+00]\n",
            "  RHS range        [1e+00, 1e+00]\n",
            "Found heuristic solution: objective 30.0000000\n",
            "Presolve removed 44 rows and 119 columns\n",
            "Presolve time: 0.01s\n",
            "Presolved: 115 rows, 120 columns, 1032 nonzeros\n",
            "Found heuristic solution: objective 26.0000000\n",
            "Variable types: 0 continuous, 120 integer (120 binary)\n",
            "\n",
            "Root relaxation: objective 1.900000e+01, 148 iterations, 0.00 seconds\n",
            "\n",
            "    Nodes    |    Current Node    |     Objective Bounds      |     Work\n",
            " Expl Unexpl |  Obj  Depth IntInf | Incumbent    BestBd   Gap | It/Node Time\n",
            "\n",
            "     0     0   19.00000    0   32   26.00000   19.00000  26.9%     -    0s\n",
            "H    0     0                      23.0000000   19.00000  17.4%     -    0s\n",
            "     0     0   19.28704    0   54   23.00000   19.28704  16.1%     -    0s\n",
            "     0     0   19.67241    0   58   23.00000   19.67241  14.5%     -    0s\n",
            "     0     0   19.84865    0   50   23.00000   19.84865  13.7%     -    0s\n",
            "H    0     0                      22.0000000   19.84865  9.78%     -    0s\n",
            "     0     0   19.96950    0   52   22.00000   19.96950  9.23%     -    0s\n",
            "     0     0   19.97046    0   50   22.00000   19.97046  9.23%     -    0s\n",
            "     0     0   19.97181    0   52   22.00000   19.97181  9.22%     -    0s\n",
            "     0     0   20.08061    0   51   22.00000   20.08061  8.72%     -    0s\n",
            "H    0     0                      21.0000000   20.08061  4.38%     -    0s\n",
            "     0     0   20.08061    0   51   21.00000   20.08061  4.38%     -    0s\n",
            "\n",
            "Cutting planes:\n",
            "  Gomory: 1\n",
            "  MIR: 1\n",
            "  Zero half: 8\n",
            "  RLT: 1\n",
            "\n",
            "Explored 1 nodes (323 simplex iterations) in 0.14 seconds\n",
            "Thread count was 2 (of 2 available processors)\n",
            "\n",
            "Solution count 5: 21 22 23 ... 30\n",
            "\n",
            "Optimal solution found (tolerance 1.00e-04)\n",
            "Best objective 2.100000000000e+01, best bound 2.100000000000e+01, gap 0.0000%\n"
          ]
        }
      ]
    },
    {
      "cell_type": "code",
      "metadata": {
        "colab": {
          "base_uri": "https://localhost:8080/"
        },
        "id": "LvrFW5xV-0Gl",
        "outputId": "2ec4ac78-5167-4e4f-d6a6-b395bed53d72"
      },
      "source": [
        "import gurobipy\n",
        "m = gurobipy.read(\"MinimizeInequalities_Second.lp\")\n",
        "m.optimize()\n",
        "m.write(\"MinimizeInequalities_Second.sol\")"
      ],
      "execution_count": 4,
      "outputs": [
        {
          "output_type": "stream",
          "name": "stdout",
          "text": [
            "Read LP format model from file MinimizeInequalities_Second.lp\n",
            "Reading time = 0.06 seconds\n",
            ": 927 rows, 1304 columns, 190780 nonzeros\n",
            "Gurobi Optimizer version 9.1.2 build v9.1.2rc0 (linux64)\n",
            "Thread count: 1 physical cores, 2 logical processors, using up to 2 threads\n",
            "Optimize a model with 927 rows, 1304 columns and 190780 nonzeros\n",
            "Model fingerprint: 0x13c97f8f\n",
            "Variable types: 0 continuous, 1304 integer (1304 binary)\n",
            "Coefficient statistics:\n",
            "  Matrix range     [1e+00, 1e+00]\n",
            "  Objective range  [1e+00, 1e+00]\n",
            "  Bounds range     [1e+00, 1e+00]\n",
            "  RHS range        [1e+00, 1e+00]\n",
            "Found heuristic solution: objective 32.0000000\n",
            "Presolve removed 594 rows and 531 columns\n",
            "Presolve time: 0.17s\n",
            "Presolved: 333 rows, 773 columns, 26612 nonzeros\n",
            "Found heuristic solution: objective 29.0000000\n",
            "Variable types: 0 continuous, 773 integer (773 binary)\n",
            "\n",
            "Root relaxation: objective 1.735147e+01, 560 iterations, 0.04 seconds\n",
            "\n",
            "    Nodes    |    Current Node    |     Objective Bounds      |     Work\n",
            " Expl Unexpl |  Obj  Depth IntInf | Incumbent    BestBd   Gap | It/Node Time\n",
            "\n",
            "     0     0   17.35147    0  107   29.00000   17.35147  40.2%     -    0s\n",
            "H    0     0                      26.0000000   17.35147  33.3%     -    0s\n",
            "H    0     0                      25.0000000   17.35147  30.6%     -    0s\n",
            "     0     0   17.58034    0  106   25.00000   17.58034  29.7%     -    0s\n",
            "H    0     0                      21.0000000   17.58034  16.3%     -    0s\n",
            "     0     0   17.60152    0  109   21.00000   17.60152  16.2%     -    0s\n",
            "     0     0   17.70792    0  109   21.00000   17.70792  15.7%     -    0s\n",
            "     0     0   17.71428    0  105   21.00000   17.71428  15.6%     -    0s\n",
            "     0     0   17.77569    0  105   21.00000   17.77569  15.4%     -    0s\n",
            "     0     0   17.78900    0  111   21.00000   17.78900  15.3%     -    0s\n",
            "     0     0   17.78958    0  111   21.00000   17.78958  15.3%     -    0s\n",
            "     0     0   17.78972    0  109   21.00000   17.78972  15.3%     -    0s\n",
            "     0     0   17.78987    0  110   21.00000   17.78987  15.3%     -    0s\n",
            "     0     0   17.81342    0  115   21.00000   17.81342  15.2%     -    1s\n",
            "     0     0   17.81473    0  116   21.00000   17.81473  15.2%     -    1s\n",
            "     0     0   17.81493    0  116   21.00000   17.81493  15.2%     -    1s\n",
            "     0     0   17.81506    0  116   21.00000   17.81506  15.2%     -    1s\n",
            "     0     0   17.81903    0  117   21.00000   17.81903  15.1%     -    1s\n",
            "     0     0   17.82130    0  118   21.00000   17.82130  15.1%     -    1s\n",
            "     0     0   17.82226    0  117   21.00000   17.82226  15.1%     -    1s\n",
            "     0     0   17.82250    0  118   21.00000   17.82250  15.1%     -    1s\n",
            "     0     0   17.82251    0  119   21.00000   17.82251  15.1%     -    1s\n",
            "     0     0   17.82251    0  119   21.00000   17.82251  15.1%     -    1s\n",
            "     0     2   17.83064    0  118   21.00000   17.83064  15.1%     -    1s\n",
            "*  182    63              59      20.0000000   17.98718  10.1%  48.9    2s\n",
            "   518   234   18.60903    8  114   20.00000   18.17783  9.11%  54.6    5s\n",
            "   987   143   18.92093   22   99   20.00000   18.73234  6.34%  68.4   10s\n",
            "\n",
            "Cutting planes:\n",
            "  Gomory: 2\n",
            "  MIR: 45\n",
            "  Flow cover: 28\n",
            "  Zero half: 4\n",
            "\n",
            "Explored 1172 nodes (78147 simplex iterations) in 10.66 seconds\n",
            "Thread count was 2 (of 2 available processors)\n",
            "\n",
            "Solution count 6: 20 21 25 ... 32\n",
            "\n",
            "Optimal solution found (tolerance 1.00e-04)\n",
            "Best objective 2.000000000000e+01, best bound 2.000000000000e+01, gap 0.0000%\n"
          ]
        }
      ]
    }
  ]
}